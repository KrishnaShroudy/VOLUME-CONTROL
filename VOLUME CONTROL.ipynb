{
 "cells": [
  {
   "cell_type": "code",
   "execution_count": 1,
   "id": "43607c6c",
   "metadata": {},
   "outputs": [
    {
     "name": "stderr",
     "output_type": "stream",
     "text": [
      "INFO: Created TensorFlow Lite XNNPACK delegate for CPU.\n"
     ]
    }
   ],
   "source": [
    "import cv2\n",
    "import mediapipe as mp\n",
    "import subprocess\n",
    "\n",
    "x1 = y1 = x2 = y2 = 0\n",
    "webcam = cv2.VideoCapture(0)\n",
    "my_hands = mp.solutions.hands.Hands()\n",
    "drawing_utils = mp.solutions.drawing_utils\n",
    "\n",
    "while True:\n",
    "    _, image = webcam.read()\n",
    "    image = cv2.flip(image, 1)\n",
    "    frame_height, frame_width, _ = image.shape\n",
    "    rgb_image = cv2.cvtColor(image, cv2.COLOR_BGR2RGB)\n",
    "    output = my_hands.process(rgb_image)\n",
    "    hands = output.multi_hand_landmarks\n",
    "\n",
    "    if hands:\n",
    "        for hand in hands:\n",
    "            drawing_utils.draw_landmarks(image, hand)\n",
    "            landmarks = hand.landmark\n",
    "            for id, landmark in enumerate(landmarks):\n",
    "                x = int(landmark.x * frame_width)\n",
    "                y = int(landmark.y * frame_height)\n",
    "                if id == 8:\n",
    "                    cv2.circle(img=image, center=(x, y), radius=8, color=(0, 255, 255), thickness=3)\n",
    "                    x1, y1 = x, y\n",
    "                if id == 4:\n",
    "                    cv2.circle(img=image, center=(x, y), radius=8, color=(0, 0, 255), thickness=3)\n",
    "                    x2, y2 = x, y\n",
    "\n",
    "        dist = ((x2 - x1) ** 2 + (y2 - y1) ** 2) ** 0.5 // 4\n",
    "        cv2.line(image, (x1, y1), (x2, y2), (0, 255, 0), 5)\n",
    "\n",
    "        # Draw volume scale\n",
    "        cv2.rectangle(image, (10, 10), (int(dist), 30), (255, 0, 0), -1)\n",
    "        cv2.putText(image, f'Volume: {int(dist)}', (10, 60), cv2.FONT_HERSHEY_SIMPLEX, 1, (255, 255, 255), 2, cv2.LINE_AA)\n",
    "\n",
    "        # Adjust volume based on distance using AppleScript\n",
    "        if dist > 50:\n",
    "            subprocess.run([\"osascript\", \"-e\", \"set volume output volume (output volume of (get volume settings) + 10)\"])\n",
    "        else:\n",
    "            subprocess.run([\"osascript\", \"-e\", \"set volume output volume (output volume of (get volume settings) - 10)\"])\n",
    "\n",
    "    cv2.imshow(\"Hand Volume Control\", image)\n",
    "    key = cv2.waitKey(10)\n",
    "    if key == 27:\n",
    "        break\n",
    "\n",
    "webcam.release()\n",
    "cv2.destroyAllWindows()\n"
   ]
  },
  {
   "cell_type": "code",
   "execution_count": null,
   "id": "9df1e2c3",
   "metadata": {},
   "outputs": [],
   "source": []
  },
  {
   "cell_type": "code",
   "execution_count": null,
   "id": "7517fa63",
   "metadata": {},
   "outputs": [],
   "source": []
  }
 ],
 "metadata": {
  "kernelspec": {
   "display_name": "Python 3 (ipykernel)",
   "language": "python",
   "name": "python3"
  },
  "language_info": {
   "codemirror_mode": {
    "name": "ipython",
    "version": 3
   },
   "file_extension": ".py",
   "mimetype": "text/x-python",
   "name": "python",
   "nbconvert_exporter": "python",
   "pygments_lexer": "ipython3",
   "version": "3.10.9"
  }
 },
 "nbformat": 4,
 "nbformat_minor": 5
}
